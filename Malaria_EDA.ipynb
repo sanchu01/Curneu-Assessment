{
 "cells": [
  {
   "cell_type": "code",
   "execution_count": 1,
   "metadata": {
    "_cell_guid": "b1076dfc-b9ad-4769-8c92-a6c4dae69d19",
    "_uuid": "8f2839f25d086af736a60e9eeb907d3b93b6e0e5"
   },
   "outputs": [],
   "source": [
    "import numpy as np\n",
    "import pandas as pd \n",
    "import seaborn as sns\n",
    "import matplotlib.pyplot as plt\n",
    "import warnings\n",
    "warnings.filterwarnings('ignore')"
   ]
  },
  {
   "cell_type": "code",
   "execution_count": 2,
   "metadata": {
    "_cell_guid": "79c7e3d0-c299-4dcb-8224-4455121ee9b0",
    "_uuid": "d629ff2d2480ee46fbb7e2d37f6b5fab8052498a"
   },
   "outputs": [],
   "source": [
    "reported_data = pd.read_csv('reported_numbers.csv')\n",
    "estimated_data = pd.read_csv('estimated_numbers.csv')\n",
    "incidence_data = pd.read_csv('incidence_per_1000_pop_at_risk.csv')"
   ]
  },
  {
   "cell_type": "code",
   "execution_count": 3,
   "metadata": {},
   "outputs": [
    {
     "name": "stdout",
     "output_type": "stream",
     "text": [
      "       Country  Year  No. of cases  No. of deaths             WHO Region\n",
      "0  Afghanistan  2017      161778.0           10.0  Eastern Mediterranean\n",
      "1      Algeria  2017           0.0            0.0                 Africa\n",
      "2       Angola  2017     3874892.0        13967.0                 Africa\n",
      "3    Argentina  2017           0.0            1.0               Americas\n",
      "4      Armenia  2017           0.0            NaN                 Europe\n"
     ]
    }
   ],
   "source": [
    "print(reported_data.head())  "
   ]
  },
  {
   "cell_type": "code",
   "execution_count": 4,
   "metadata": {},
   "outputs": [
    {
     "name": "stdout",
     "output_type": "stream",
     "text": [
      "       Country  Year              No. of cases      No. of deaths  \\\n",
      "0  Afghanistan  2017     630308[495000-801000]       298[110-510]   \n",
      "1      Algeria  2017                         0                  0   \n",
      "2       Angola  2017  4615605[3106000-6661000]  13316[9970-16600]   \n",
      "3    Argentina  2017                         0                  0   \n",
      "4      Armenia  2017                         0                  0   \n",
      "\n",
      "   No. of cases_median  No. of cases_min  No. of cases_max  \\\n",
      "0               630308          495000.0          801000.0   \n",
      "1                    0               NaN               NaN   \n",
      "2              4615605         3106000.0         6661000.0   \n",
      "3                    0               NaN               NaN   \n",
      "4                    0               NaN               NaN   \n",
      "\n",
      "   No. of deaths_median  No. of deaths_min  No. of deaths_max  \\\n",
      "0                   298              110.0              510.0   \n",
      "1                     0                NaN                NaN   \n",
      "2                 13316             9970.0            16600.0   \n",
      "3                     0                NaN                NaN   \n",
      "4                     0                NaN                NaN   \n",
      "\n",
      "              WHO Region  \n",
      "0  Eastern Mediterranean  \n",
      "1                 Africa  \n",
      "2                 Africa  \n",
      "3               Americas  \n",
      "4                 Europe  \n"
     ]
    }
   ],
   "source": [
    "print(estimated_data.head())  "
   ]
  },
  {
   "cell_type": "code",
   "execution_count": 5,
   "metadata": {},
   "outputs": [
    {
     "name": "stdout",
     "output_type": "stream",
     "text": [
      "       Country  Year  No. of cases             WHO Region\n",
      "0  Afghanistan  2018         29.01  Eastern Mediterranean\n",
      "1      Algeria  2018          0.00                 Africa\n",
      "2       Angola  2018        228.91                 Africa\n",
      "3    Argentina  2018          0.00               Americas\n",
      "4      Armenia  2018          0.00                 Europe\n"
     ]
    }
   ],
   "source": [
    "print(incidence_data.head())  "
   ]
  },
  {
   "cell_type": "code",
   "execution_count": 6,
   "metadata": {},
   "outputs": [],
   "source": [
    "def getUnique(df):\n",
    "    for col in df.columns:\n",
    "        print(col + \" : \" + str(df[col].nunique()))"
   ]
  },
  {
   "cell_type": "code",
   "execution_count": 7,
   "metadata": {},
   "outputs": [
    {
     "name": "stdout",
     "output_type": "stream",
     "text": [
      "Country : 108\n",
      "Year : 18\n",
      "No. of cases : 1426\n",
      "No. of deaths : 708\n",
      "WHO Region : 6\n"
     ]
    }
   ],
   "source": [
    "getUnique(reported_data)"
   ]
  },
  {
   "cell_type": "code",
   "execution_count": 8,
   "metadata": {},
   "outputs": [
    {
     "name": "stdout",
     "output_type": "stream",
     "text": [
      "Country : 107\n",
      "Year : 8\n",
      "No. of cases : 695\n",
      "No. of deaths : 519\n",
      "No. of cases_median : 694\n",
      "No. of cases_min : 448\n",
      "No. of cases_max : 481\n",
      "No. of deaths_median : 447\n",
      "No. of deaths_min : 255\n",
      "No. of deaths_max : 336\n",
      "WHO Region : 6\n"
     ]
    }
   ],
   "source": [
    "getUnique(estimated_data)"
   ]
  },
  {
   "cell_type": "code",
   "execution_count": 9,
   "metadata": {},
   "outputs": [
    {
     "name": "stdout",
     "output_type": "stream",
     "text": [
      "Country : 107\n",
      "Year : 19\n",
      "No. of cases : 1432\n",
      "WHO Region : 6\n"
     ]
    }
   ],
   "source": [
    "getUnique(incidence_data)"
   ]
  },
  {
   "cell_type": "markdown",
   "metadata": {},
   "source": [
    "**1. Reported data**"
   ]
  },
  {
   "cell_type": "code",
   "execution_count": 10,
   "metadata": {},
   "outputs": [
    {
     "data": {
      "text/html": [
       "<div>\n",
       "<style scoped>\n",
       "    .dataframe tbody tr th:only-of-type {\n",
       "        vertical-align: middle;\n",
       "    }\n",
       "\n",
       "    .dataframe tbody tr th {\n",
       "        vertical-align: top;\n",
       "    }\n",
       "\n",
       "    .dataframe thead th {\n",
       "        text-align: right;\n",
       "    }\n",
       "</style>\n",
       "<table border=\"1\" class=\"dataframe\">\n",
       "  <thead>\n",
       "    <tr style=\"text-align: right;\">\n",
       "      <th></th>\n",
       "      <th>WHO Region</th>\n",
       "      <th>No. of cases</th>\n",
       "      <th>Percentage</th>\n",
       "    </tr>\n",
       "  </thead>\n",
       "  <tbody>\n",
       "    <tr>\n",
       "      <th>0</th>\n",
       "      <td>Africa</td>\n",
       "      <td>586002159.0</td>\n",
       "      <td>87.930388</td>\n",
       "    </tr>\n",
       "    <tr>\n",
       "      <th>1</th>\n",
       "      <td>Americas</td>\n",
       "      <td>13894342.0</td>\n",
       "      <td>2.084864</td>\n",
       "    </tr>\n",
       "    <tr>\n",
       "      <th>2</th>\n",
       "      <td>Eastern Mediterranean</td>\n",
       "      <td>19932663.0</td>\n",
       "      <td>2.990922</td>\n",
       "    </tr>\n",
       "    <tr>\n",
       "      <th>3</th>\n",
       "      <td>Europe</td>\n",
       "      <td>112675.0</td>\n",
       "      <td>0.016907</td>\n",
       "    </tr>\n",
       "    <tr>\n",
       "      <th>4</th>\n",
       "      <td>South-East Asia</td>\n",
       "      <td>39468640.0</td>\n",
       "      <td>5.922321</td>\n",
       "    </tr>\n",
       "    <tr>\n",
       "      <th>5</th>\n",
       "      <td>Western Pacific</td>\n",
       "      <td>7028251.0</td>\n",
       "      <td>1.054598</td>\n",
       "    </tr>\n",
       "  </tbody>\n",
       "</table>\n",
       "</div>"
      ],
      "text/plain": [
       "              WHO Region  No. of cases  Percentage\n",
       "0                 Africa   586002159.0   87.930388\n",
       "1               Americas    13894342.0    2.084864\n",
       "2  Eastern Mediterranean    19932663.0    2.990922\n",
       "3                 Europe      112675.0    0.016907\n",
       "4        South-East Asia    39468640.0    5.922321\n",
       "5        Western Pacific     7028251.0    1.054598"
      ]
     },
     "execution_count": 10,
     "metadata": {},
     "output_type": "execute_result"
    }
   ],
   "source": [
    "reported = reported_data.groupby(['WHO Region']).agg({'No. of cases' : 'sum'}).reset_index()\n",
    "x = reported_data['No. of cases'].sum()\n",
    "reported['Percentage'] = (reported['No. of cases']/x)*100\n",
    "reported"
   ]
  },
  {
   "cell_type": "code",
   "execution_count": 11,
   "metadata": {},
   "outputs": [
    {
     "data": {
      "text/plain": [
       "Text(0.5, 1.0, 'In other WHO Regions')"
      ]
     },
     "execution_count": 11,
     "metadata": {},
     "output_type": "execute_result"
    },
    {
     "data": {
      "image/png": "[encoded data removed]",
      "text/plain": [
       "<Figure size 1440x360 with 2 Axes>"
      ]
     },
     "metadata": {
      "needs_background": "light"
     },
     "output_type": "display_data"
    }
   ],
   "source": [
    "fig_dims = (20, 5)\n",
    "\n",
    "fig, axes = plt.subplots(1, 2, figsize=fig_dims)\n",
    "sns.barplot(x = 'Year' , y = 'No. of cases' , data = reported_data[reported_data['WHO Region'] == 'Africa'], ax= axes[0]).set_title(\"In Africa\")\n",
    "sns.barplot(x = 'Year' , y = 'No. of cases' , data = reported_data[reported_data['WHO Region'] != 'Africa'], ax= axes[1]).set_title(\"In other WHO Regions\")"
   ]
  },
  {
   "cell_type": "markdown",
   "metadata": {},
   "source": [
    "2. Estimated data"
   ]
  },
  {
   "cell_type": "code",
   "execution_count": 12,
   "metadata": {},
   "outputs": [
    {
     "data": {
      "text/html": [
       "<div>\n",
       "<style scoped>\n",
       "    .dataframe tbody tr th:only-of-type {\n",
       "        vertical-align: middle;\n",
       "    }\n",
       "\n",
       "    .dataframe tbody tr th {\n",
       "        vertical-align: top;\n",
       "    }\n",
       "\n",
       "    .dataframe thead th {\n",
       "        text-align: right;\n",
       "    }\n",
       "</style>\n",
       "<table border=\"1\" class=\"dataframe\">\n",
       "  <thead>\n",
       "    <tr style=\"text-align: right;\">\n",
       "      <th></th>\n",
       "      <th>WHO Region</th>\n",
       "      <th>No. of cases_median</th>\n",
       "      <th>Percentage</th>\n",
       "    </tr>\n",
       "  </thead>\n",
       "  <tbody>\n",
       "    <tr>\n",
       "      <th>0</th>\n",
       "      <td>Africa</td>\n",
       "      <td>1587152540</td>\n",
       "      <td>89.056616</td>\n",
       "    </tr>\n",
       "    <tr>\n",
       "      <th>1</th>\n",
       "      <td>Americas</td>\n",
       "      <td>13025802</td>\n",
       "      <td>0.730890</td>\n",
       "    </tr>\n",
       "    <tr>\n",
       "      <th>2</th>\n",
       "      <td>Eastern Mediterranean</td>\n",
       "      <td>34456176</td>\n",
       "      <td>1.933368</td>\n",
       "    </tr>\n",
       "    <tr>\n",
       "      <th>3</th>\n",
       "      <td>Europe</td>\n",
       "      <td>262</td>\n",
       "      <td>0.000015</td>\n",
       "    </tr>\n",
       "    <tr>\n",
       "      <th>4</th>\n",
       "      <td>South-East Asia</td>\n",
       "      <td>132725734</td>\n",
       "      <td>7.447365</td>\n",
       "    </tr>\n",
       "    <tr>\n",
       "      <th>5</th>\n",
       "      <td>Western Pacific</td>\n",
       "      <td>14823234</td>\n",
       "      <td>0.831746</td>\n",
       "    </tr>\n",
       "  </tbody>\n",
       "</table>\n",
       "</div>"
      ],
      "text/plain": [
       "              WHO Region  No. of cases_median  Percentage\n",
       "0                 Africa           1587152540   89.056616\n",
       "1               Americas             13025802    0.730890\n",
       "2  Eastern Mediterranean             34456176    1.933368\n",
       "3                 Europe                  262    0.000015\n",
       "4        South-East Asia            132725734    7.447365\n",
       "5        Western Pacific             14823234    0.831746"
      ]
     },
     "execution_count": 12,
     "metadata": {},
     "output_type": "execute_result"
    }
   ],
   "source": [
    "estimated = estimated_data.groupby(['WHO Region']).agg({'No. of cases_median' : 'sum'}).reset_index()\n",
    "x = estimated_data['No. of cases_median'].sum()\n",
    "estimated['Percentage'] = (estimated['No. of cases_median']/x)*100\n",
    "estimated"
   ]
  },
  {
   "cell_type": "code",
   "execution_count": 13,
   "metadata": {},
   "outputs": [
    {
     "data": {
      "text/plain": [
       "Text(0.5, 1.0, 'In other WHO Regions')"
      ]
     },
     "execution_count": 13,
     "metadata": {},
     "output_type": "execute_result"
    },
    {
     "data": {
      "image/png": "[encoded data removed]",
      "text/plain": [
       "<Figure size 1440x360 with 2 Axes>"
      ]
     },
     "metadata": {
      "needs_background": "light"
     },
     "output_type": "display_data"
    }
   ],
   "source": [
    "fig_dims = (20, 5)\n",
    "\n",
    "fig, axes = plt.subplots(1,2 , figsize=fig_dims)\n",
    "sns.barplot(x = 'Year' , y = 'No. of cases_median' \n",
    "            , data = estimated_data[estimated_data['WHO Region'] == 'Africa'], ax= axes[0]).set_title(\"In Africa\")\n",
    "sns.barplot(x = 'Year' , y = 'No. of cases_median' \n",
    "            , data = estimated_data[estimated_data['WHO Region'] != 'Africa'], ax= axes[1]).set_title(\"In other WHO Regions\")"
   ]
  },
  {
   "cell_type": "markdown",
   "metadata": {},
   "source": [
    "**3. Incidence data**"
   ]
  },
  {
   "cell_type": "code",
   "execution_count": 14,
   "metadata": {},
   "outputs": [
    {
     "data": {
      "text/html": [
       "<div>\n",
       "<style scoped>\n",
       "    .dataframe tbody tr th:only-of-type {\n",
       "        vertical-align: middle;\n",
       "    }\n",
       "\n",
       "    .dataframe tbody tr th {\n",
       "        vertical-align: top;\n",
       "    }\n",
       "\n",
       "    .dataframe thead th {\n",
       "        text-align: right;\n",
       "    }\n",
       "</style>\n",
       "<table border=\"1\" class=\"dataframe\">\n",
       "  <thead>\n",
       "    <tr style=\"text-align: right;\">\n",
       "      <th></th>\n",
       "      <th>WHO Region</th>\n",
       "      <th>No. of cases</th>\n",
       "      <th>Percentage</th>\n",
       "    </tr>\n",
       "  </thead>\n",
       "  <tbody>\n",
       "    <tr>\n",
       "      <th>0</th>\n",
       "      <td>Africa</td>\n",
       "      <td>192303.47</td>\n",
       "      <td>86.632035</td>\n",
       "    </tr>\n",
       "    <tr>\n",
       "      <th>1</th>\n",
       "      <td>Americas</td>\n",
       "      <td>9666.15</td>\n",
       "      <td>4.354566</td>\n",
       "    </tr>\n",
       "    <tr>\n",
       "      <th>2</th>\n",
       "      <td>Eastern Mediterranean</td>\n",
       "      <td>4196.10</td>\n",
       "      <td>1.890328</td>\n",
       "    </tr>\n",
       "    <tr>\n",
       "      <th>3</th>\n",
       "      <td>Europe</td>\n",
       "      <td>107.84</td>\n",
       "      <td>0.048582</td>\n",
       "    </tr>\n",
       "    <tr>\n",
       "      <th>4</th>\n",
       "      <td>South-East Asia</td>\n",
       "      <td>2824.23</td>\n",
       "      <td>1.272306</td>\n",
       "    </tr>\n",
       "    <tr>\n",
       "      <th>5</th>\n",
       "      <td>Western Pacific</td>\n",
       "      <td>12879.53</td>\n",
       "      <td>5.802183</td>\n",
       "    </tr>\n",
       "  </tbody>\n",
       "</table>\n",
       "</div>"
      ],
      "text/plain": [
       "              WHO Region  No. of cases  Percentage\n",
       "0                 Africa     192303.47   86.632035\n",
       "1               Americas       9666.15    4.354566\n",
       "2  Eastern Mediterranean       4196.10    1.890328\n",
       "3                 Europe        107.84    0.048582\n",
       "4        South-East Asia       2824.23    1.272306\n",
       "5        Western Pacific      12879.53    5.802183"
      ]
     },
     "execution_count": 14,
     "metadata": {},
     "output_type": "execute_result"
    }
   ],
   "source": [
    "incidence = incidence_data.groupby(['WHO Region']).agg({'No. of cases' : 'sum'}).reset_index()\n",
    "x = incidence_data['No. of cases'].sum()\n",
    "incidence['Percentage'] = (incidence['No. of cases']/x)*100\n",
    "incidence"
   ]
  },
  {
   "cell_type": "code",
   "execution_count": 15,
   "metadata": {},
   "outputs": [
    {
     "data": {
      "text/plain": [
       "Text(0.5, 1.0, 'In other WHO Regions')"
      ]
     },
     "execution_count": 15,
     "metadata": {},
     "output_type": "execute_result"
    },
    {
     "data": {
      "image/png": "[encoded data removed]",
      "text/plain": [
       "<Figure size 1440x360 with 2 Axes>"
      ]
     },
     "metadata": {
      "needs_background": "light"
     },
     "output_type": "display_data"
    }
   ],
   "source": [
    "fig_dims = (20, 5)\n",
    "\n",
    "fig, axes = plt.subplots(1,2 , figsize=fig_dims)\n",
    "sns.barplot(x = 'Year' , y = 'No. of cases' \n",
    "            , data = incidence_data[incidence_data['WHO Region'] == 'Africa'], ax= axes[0]).set_title(\"In Africa\")\n",
    "sns.barplot(x = 'Year' , y = 'No. of cases' \n",
    "            , data = incidence_data[incidence_data['WHO Region'] != 'Africa'], ax= axes[1]).set_title(\"In other WHO Regions\")"
   ]
  },
  {
   "cell_type": "markdown",
   "metadata": {},
   "source": [
    "*Observing the graph, the trends show that the numbers are declining for both. Its small yearly decrease for Africa region, whereas, for other regions, it's a good yearly decrease.*"
   ]
  }
 ],
 "metadata": {
  "kernelspec": {
   "display_name": "Python 3",
   "language": "python",
   "name": "python3"
  },
  "language_info": {
   "codemirror_mode": {
    "name": "ipython",
    "version": 3
   },
   "file_extension": ".py",
   "mimetype": "text/x-python",
   "name": "python",
   "nbconvert_exporter": "python",
   "pygments_lexer": "ipython3",
   "version": "3.7.1"
  }
 },
 "nbformat": 4,
 "nbformat_minor": 4
}
